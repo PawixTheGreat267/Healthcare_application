{
 "cells": [
  {
   "cell_type": "code",
   "execution_count": null,
   "id": "573f58d1",
   "metadata": {},
   "outputs": [],
   "source": [
    "model_seq = nn.Sequential()\n",
    "\n",
    "conv1 = torch.nn.Conv2D(in_channels=3, out_channels=16, kernel_size=(2,2), padding=1)\n",
    "model_seq.append(conv1)\n",
    "\n",
    "model_seq.append(nn.ReLU())\n",
    "\n",
    "max_pool1 = nn.MaxPool2D(kernel_size=(2,2), stride=1)\n",
    "model_seq.append(max_pool1)\n",
    "\n",
    "##Creating a test batch\n",
    "test_batch1 = next(iter(train_loader))[0]\n",
    "batch_shape = test_batch1.shape\n",
    "print(batch_shape)\n",
    "\n",
    "##Getting the first conv2d \n",
    "first_test_out = model_seq(test_batch1)\n",
    "print(f\"Shape after first conv layer: {first_step_out.shape}\")\n"
   ]
  },
  {
   "cell_type": "code",
   "execution_count": null,
   "id": "e9314a4b",
   "metadata": {},
   "outputs": [],
   "source": []
  }
 ],
 "metadata": {
  "language_info": {
   "name": "python"
  }
 },
 "nbformat": 4,
 "nbformat_minor": 5
}
